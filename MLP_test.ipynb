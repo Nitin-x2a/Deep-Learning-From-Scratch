{
 "cells": [
  {
   "cell_type": "code",
   "execution_count": 3,
   "metadata": {},
   "outputs": [],
   "source": [
    "import numpy as np"
   ]
  },
  {
   "cell_type": "code",
   "execution_count": 1,
   "metadata": {},
   "outputs": [],
   "source": [
    "from MLP import MLP"
   ]
  },
  {
   "cell_type": "markdown",
   "metadata": {},
   "source": [
    "REGRESSION"
   ]
  },
  {
   "cell_type": "code",
   "execution_count": 4,
   "metadata": {},
   "outputs": [],
   "source": [
    "X = np.random.rand(15000, 5)\n",
    "y = 4*np.square(X[:, 0]) + 1.4*X[:, 1] + 3.5*np.sqrt(np.abs(X[:, 2])) + 0.5*X[:, 3] - 2.7*(X[:, 4])"
   ]
  },
  {
   "cell_type": "code",
   "execution_count": 5,
   "metadata": {},
   "outputs": [],
   "source": [
    "model = MLP([5, 10, 7, 1], ['none', 'relu', 'relu', 'none'])"
   ]
  },
  {
   "cell_type": "code",
   "execution_count": 6,
   "metadata": {},
   "outputs": [],
   "source": [
    "model.compile_network('mse')"
   ]
  },
  {
   "cell_type": "code",
   "execution_count": 7,
   "metadata": {},
   "outputs": [
    {
     "name": "stdout",
     "output_type": "stream",
     "text": [
      "\n",
      "Epoch 1 ==> mse: 2.0651578798765486 val_mse: 1.8879118467018543 \n",
      "Epoch 2 ==> mse: 0.9245240670474731 val_mse: 0.8589133750497593 \n",
      "Epoch 3 ==> mse: 0.5723735528671989 val_mse: 0.5303518022896454 \n",
      "Epoch 4 ==> mse: 0.41371427574818675 val_mse: 0.386096354449378 \n",
      "Epoch 5 ==> mse: 0.3363541891006905 val_mse: 0.31685016940136246 \n",
      "Epoch 6 ==> mse: 0.29346359473073064 val_mse: 0.27900704010112515 \n",
      "Epoch 7 ==> mse: 0.2666529825478093 val_mse: 0.25505748242494336 \n",
      "Epoch 8 ==> mse: 0.24720265458036864 val_mse: 0.23756085412414096 \n",
      "Epoch 9 ==> mse: 0.23191337387380345 val_mse: 0.22357300214539585 \n",
      "Epoch 10 ==> mse: 0.21927686223434198 val_mse: 0.21166905750628504 \n",
      "Epoch 11 ==> mse: 0.2084045557249453 val_mse: 0.20128521681050726 \n",
      "Epoch 12 ==> mse: 0.19858978304324965 val_mse: 0.19177252065894673 \n",
      "Epoch 13 ==> mse: 0.18937102865511055 val_mse: 0.1829810430151687 \n",
      "Epoch 14 ==> mse: 0.18069388616661877 val_mse: 0.17482429558407886 \n",
      "Epoch 15 ==> mse: 0.1722146456343234 val_mse: 0.16713610343594282 \n",
      "Epoch 16 ==> mse: 0.16425167730776047 val_mse: 0.159810028676189 \n",
      "Epoch 17 ==> mse: 0.15655196888272394 val_mse: 0.15283324605494616 \n",
      "Epoch 18 ==> mse: 0.14887101623103588 val_mse: 0.1459328698842584 \n",
      "Epoch 19 ==> mse: 0.14130722204769122 val_mse: 0.13910890801494413 \n",
      "Epoch 20 ==> mse: 0.13363599707575613 val_mse: 0.1324879557362723 \n",
      "Epoch 21 ==> mse: 0.1262090050254765 val_mse: 0.12609423493540353 \n",
      "Epoch 22 ==> mse: 0.11920407071925634 val_mse: 0.11993139321739583 \n",
      "Epoch 23 ==> mse: 0.11284513682798772 val_mse: 0.11421349240131867 \n",
      "Epoch 24 ==> mse: 0.10700960933004453 val_mse: 0.10889274025024656 \n",
      "Epoch 25 ==> mse: 0.10154311546706365 val_mse: 0.1040268110920686 \n",
      "Epoch 26 ==> mse: 0.09652750751226559 val_mse: 0.09962481259871597 \n",
      "Epoch 27 ==> mse: 0.09180313041712429 val_mse: 0.09559091520622398 \n",
      "Epoch 28 ==> mse: 0.08758551050503476 val_mse: 0.09194045602112826 \n",
      "Epoch 29 ==> mse: 0.08384443675436708 val_mse: 0.08869215297236058 \n",
      "Epoch 30 ==> mse: 0.08053559073460681 val_mse: 0.08570521752088706 \n",
      "Epoch 31 ==> mse: 0.0775327043348915 val_mse: 0.08295405287353685 \n",
      "Epoch 32 ==> mse: 0.07487471604090834 val_mse: 0.08046623111820035 \n",
      "Epoch 33 ==> mse: 0.07249087893781558 val_mse: 0.07817444159881656 \n",
      "Epoch 34 ==> mse: 0.07040775244226233 val_mse: 0.07609437681431466 \n",
      "Epoch 35 ==> mse: 0.06856996970198466 val_mse: 0.07419549243557279 \n",
      "Epoch 36 ==> mse: 0.06690827782352865 val_mse: 0.07244336972817744 \n",
      "Epoch 37 ==> mse: 0.06539036551583534 val_mse: 0.07081560653273457 \n",
      "Epoch 38 ==> mse: 0.06399840457224873 val_mse: 0.06927018510411903 \n",
      "Epoch 39 ==> mse: 0.0627200475534539 val_mse: 0.06784815576733502 \n",
      "Epoch 40 ==> mse: 0.06154149187816296 val_mse: 0.06653064045692676 \n",
      "Epoch 41 ==> mse: 0.0604112872286606 val_mse: 0.06529626831919802 \n",
      "Epoch 42 ==> mse: 0.05932826092357277 val_mse: 0.06413938775378007 \n",
      "Epoch 43 ==> mse: 0.05831773719291721 val_mse: 0.06305659267452877 \n",
      "Epoch 44 ==> mse: 0.05738340412356159 val_mse: 0.06202441516795216 \n",
      "Epoch 45 ==> mse: 0.05652584640487034 val_mse: 0.06105400160741387 \n",
      "Epoch 46 ==> mse: 0.055720287009834585 val_mse: 0.060148230207970346 \n",
      "Epoch 47 ==> mse: 0.05496151636145409 val_mse: 0.059291313074455114 \n",
      "Epoch 48 ==> mse: 0.05425545298922432 val_mse: 0.05848239620266489 \n",
      "Epoch 49 ==> mse: 0.05359300549540179 val_mse: 0.05771852267922725 \n",
      "Epoch 50 ==> mse: 0.05296408996636723 val_mse: 0.05697834996433121 \n",
      "Epoch 51 ==> mse: 0.0523574071048216 val_mse: 0.056266747513920974 \n",
      "Epoch 52 ==> mse: 0.051771445033192934 val_mse: 0.055588087555886054 \n",
      "Epoch 53 ==> mse: 0.05120683555455711 val_mse: 0.05493977946879817 \n",
      "Epoch 54 ==> mse: 0.05066824908754617 val_mse: 0.05432068981110135 \n",
      "Epoch 55 ==> mse: 0.050158303767385844 val_mse: 0.05372787110191023 \n",
      "Epoch 56 ==> mse: 0.04968064729477175 val_mse: 0.053162959540593226 \n",
      "Epoch 57 ==> mse: 0.04921898185537656 val_mse: 0.05261579646194216 \n",
      "Epoch 58 ==> mse: 0.0487794381298656 val_mse: 0.05208554114938122 \n",
      "Epoch 59 ==> mse: 0.04835024985167252 val_mse: 0.05157052343104839 \n",
      "Epoch 60 ==> mse: 0.04793930579929256 val_mse: 0.051075130505963864 \n",
      "Epoch 61 ==> mse: 0.04753867033916868 val_mse: 0.05059725339276182 \n",
      "Epoch 62 ==> mse: 0.04714942529513225 val_mse: 0.0501319567035344 \n",
      "Epoch 63 ==> mse: 0.04677591671850257 val_mse: 0.0496822794365031 \n",
      "Epoch 64 ==> mse: 0.04641723554461114 val_mse: 0.04924856158948792 \n",
      "Epoch 65 ==> mse: 0.046073741921205925 val_mse: 0.04882950567042969 \n",
      "Epoch 66 ==> mse: 0.04574301555070062 val_mse: 0.04842397300156558 \n",
      "Epoch 67 ==> mse: 0.0454227683206974 val_mse: 0.04802737551987552 \n",
      "Epoch 68 ==> mse: 0.045110223088901974 val_mse: 0.04764353342091206 \n",
      "Epoch 69 ==> mse: 0.04480841643182607 val_mse: 0.047267587764216475 \n",
      "Epoch 70 ==> mse: 0.04451415017389886 val_mse: 0.046902073034198306 \n",
      "Epoch 71 ==> mse: 0.0442271455149536 val_mse: 0.04654233685275743 \n",
      "Epoch 72 ==> mse: 0.04395227058850405 val_mse: 0.04619408348050611 \n",
      "Epoch 73 ==> mse: 0.043682030666343234 val_mse: 0.045851224133718366 \n",
      "Epoch 74 ==> mse: 0.04341922312181124 val_mse: 0.04551692972326747 \n",
      "Epoch 75 ==> mse: 0.04316165172252356 val_mse: 0.04519077288847108 \n",
      "Epoch 76 ==> mse: 0.0429110905210519 val_mse: 0.0448732898315437 \n",
      "Epoch 77 ==> mse: 0.042665385226001835 val_mse: 0.04456188916542161 \n",
      "Epoch 78 ==> mse: 0.042414638790795454 val_mse: 0.04425625838661295 \n",
      "Epoch 79 ==> mse: 0.04216577714039298 val_mse: 0.04395837613937631 \n",
      "Epoch 80 ==> mse: 0.041921086689273815 val_mse: 0.043663509692284753 \n",
      "Epoch 81 ==> mse: 0.04168287527657916 val_mse: 0.043374199195804354 \n",
      "Epoch 82 ==> mse: 0.04144663462433719 val_mse: 0.04308931921429158 \n",
      "Epoch 83 ==> mse: 0.041218366912407135 val_mse: 0.042809359522922155 \n",
      "Epoch 84 ==> mse: 0.04099765743747818 val_mse: 0.042530344239490696 \n",
      "Epoch 85 ==> mse: 0.04078183361520355 val_mse: 0.04225393501008297 \n",
      "Epoch 86 ==> mse: 0.0405674483974202 val_mse: 0.04198224464907561 \n",
      "Epoch 87 ==> mse: 0.040350280054938806 val_mse: 0.04171539180773691 \n",
      "Epoch 88 ==> mse: 0.04013246686083613 val_mse: 0.04145085381872977 \n",
      "Epoch 89 ==> mse: 0.039917174374282126 val_mse: 0.04118756035234393 \n",
      "Epoch 90 ==> mse: 0.03970458120149969 val_mse: 0.04092716615159277 \n",
      "Epoch 91 ==> mse: 0.03949630028756835 val_mse: 0.040667732966792616 \n",
      "Epoch 92 ==> mse: 0.039290557320068996 val_mse: 0.04041115923068978 \n",
      "Epoch 93 ==> mse: 0.03908520487076039 val_mse: 0.04015896812597913 \n",
      "Epoch 94 ==> mse: 0.038878140436605035 val_mse: 0.03991028784499127 \n",
      "Epoch 95 ==> mse: 0.03867345034856966 val_mse: 0.039664241029642985 \n",
      "Epoch 96 ==> mse: 0.03847212715874322 val_mse: 0.0394187796058549 \n",
      "Epoch 97 ==> mse: 0.03827166505605521 val_mse: 0.03917528945924439 \n",
      "Epoch 98 ==> mse: 0.03807283646150531 val_mse: 0.038934298532703096 \n",
      "Epoch 99 ==> mse: 0.037877993670251076 val_mse: 0.0386946453306388 \n",
      "Epoch 100 ==> mse: 0.03768415767023502 val_mse: 0.038454878102975806 \n",
      "Epoch 101 ==> mse: 0.03748614259410401 val_mse: 0.03821398254518789 \n",
      "Epoch 102 ==> mse: 0.03729267649748538 val_mse: 0.037976211417434694 \n",
      "Epoch 103 ==> mse: 0.03710242226517073 val_mse: 0.03774218165766838 \n",
      "Epoch 104 ==> mse: 0.03691538331112103 val_mse: 0.037509070722005024 \n",
      "Epoch 105 ==> mse: 0.03673173083198757 val_mse: 0.03727856891425039 \n",
      "Epoch 106 ==> mse: 0.03654466939473433 val_mse: 0.03705081168318377 \n",
      "Epoch 107 ==> mse: 0.03635591492937362 val_mse: 0.03682177579472642 \n",
      "Epoch 108 ==> mse: 0.03617125483351281 val_mse: 0.03659336993479063 \n",
      "Epoch 109 ==> mse: 0.03598845325274327 val_mse: 0.03636775873420702 \n",
      "Epoch 110 ==> mse: 0.035803589867739107 val_mse: 0.03614325298878645 \n",
      "Epoch 111 ==> mse: 0.035619025135696473 val_mse: 0.03591810319701279 \n",
      "Epoch 112 ==> mse: 0.035431210101619 val_mse: 0.035693441567602256 \n",
      "Epoch 113 ==> mse: 0.03523840821369115 val_mse: 0.03547169134203927 \n",
      "Epoch 114 ==> mse: 0.03504618026083806 val_mse: 0.035245931117137703 \n",
      "Epoch 115 ==> mse: 0.03484580168009566 val_mse: 0.03501485752194428 \n",
      "Epoch 116 ==> mse: 0.03464792572374071 val_mse: 0.034780122171283935 \n",
      "Epoch 117 ==> mse: 0.03445409825003143 val_mse: 0.03454690663692674 \n",
      "Epoch 118 ==> mse: 0.0342635339570095 val_mse: 0.03431285997583615 \n",
      "Epoch 119 ==> mse: 0.03406799225925376 val_mse: 0.034076370247139595 \n",
      "Epoch 120 ==> mse: 0.03386639800894236 val_mse: 0.033842512361408304 \n",
      "Epoch 121 ==> mse: 0.03366700093225249 val_mse: 0.033607287712058495 \n"
     ]
    },
    {
     "name": "stdout",
     "output_type": "stream",
     "text": [
      "Epoch 122 ==> mse: 0.03347237360757738 val_mse: 0.03337391879671239 \n",
      "Epoch 123 ==> mse: 0.03327662043092786 val_mse: 0.03313509741946719 \n",
      "Epoch 124 ==> mse: 0.03308450634612935 val_mse: 0.03289956098214124 \n",
      "Epoch 125 ==> mse: 0.032880152353980646 val_mse: 0.0326641385607394 \n",
      "Epoch 126 ==> mse: 0.032662757159051564 val_mse: 0.032426700459170545 \n",
      "Epoch 127 ==> mse: 0.03242805858431129 val_mse: 0.03218642725256436 \n",
      "Epoch 128 ==> mse: 0.032181045705096056 val_mse: 0.03194475027825691 \n",
      "Epoch 129 ==> mse: 0.03194337886740197 val_mse: 0.03170502273134746 \n",
      "Epoch 130 ==> mse: 0.031704941401701825 val_mse: 0.0314677519501235 \n",
      "Epoch 131 ==> mse: 0.0314627038444005 val_mse: 0.03123178640992946 \n",
      "Epoch 132 ==> mse: 0.031218738919056445 val_mse: 0.030997949484816757 \n",
      "Epoch 133 ==> mse: 0.030982831655846574 val_mse: 0.030766513931607595 \n",
      "Epoch 134 ==> mse: 0.03075182209935468 val_mse: 0.030533900483394244 \n",
      "Epoch 135 ==> mse: 0.03051205118869359 val_mse: 0.0303016878252796 \n",
      "Epoch 136 ==> mse: 0.03024266403508001 val_mse: 0.030066005292188284 \n",
      "Epoch 137 ==> mse: 0.029968711079486995 val_mse: 0.029823211459249866 \n",
      "Epoch 138 ==> mse: 0.029692332060379897 val_mse: 0.029592298859321967 \n",
      "Epoch 139 ==> mse: 0.029411173590224608 val_mse: 0.029358046811503113 \n",
      "Epoch 140 ==> mse: 0.029132789998362794 val_mse: 0.029121559647520383 \n",
      "Epoch 141 ==> mse: 0.0288487240361091 val_mse: 0.02887805384210294 \n",
      "Epoch 142 ==> mse: 0.028562763447145558 val_mse: 0.028636697735897956 \n",
      "Epoch 143 ==> mse: 0.028284817128897428 val_mse: 0.028392429108589384 \n",
      "Epoch 144 ==> mse: 0.02800678460698022 val_mse: 0.028153157732299348 \n",
      "Epoch 145 ==> mse: 0.02771665930194986 val_mse: 0.02790755378732995 \n",
      "Epoch 146 ==> mse: 0.02742639200955428 val_mse: 0.027656816554550268 \n",
      "Epoch 147 ==> mse: 0.027150439529804223 val_mse: 0.02740728846469416 \n",
      "Epoch 148 ==> mse: 0.026865325260269465 val_mse: 0.02714590019362865 \n",
      "Epoch 149 ==> mse: 0.026589545896319747 val_mse: 0.026894877009171047 \n",
      "Epoch 150 ==> mse: 0.026314478138742665 val_mse: 0.02664585308427298 \n",
      "Epoch 151 ==> mse: 0.026038628854838073 val_mse: 0.026397051147127672 \n",
      "Epoch 152 ==> mse: 0.025769023057782427 val_mse: 0.02614852298531414 \n",
      "Epoch 153 ==> mse: 0.025502717561845814 val_mse: 0.025901444040658493 \n",
      "Epoch 154 ==> mse: 0.02522761176301994 val_mse: 0.025652188147696483 \n",
      "Epoch 155 ==> mse: 0.02496104816099541 val_mse: 0.02539942072274542 \n",
      "Epoch 156 ==> mse: 0.024693925919759198 val_mse: 0.025148882992613746 \n",
      "Epoch 157 ==> mse: 0.024427462488683414 val_mse: 0.02490736870339802 \n",
      "Epoch 158 ==> mse: 0.02416704880197564 val_mse: 0.024668636511145738 \n",
      "Epoch 159 ==> mse: 0.023907543675340377 val_mse: 0.024424829461599278 \n",
      "Epoch 160 ==> mse: 0.023648542514542896 val_mse: 0.0241872913919653 \n",
      "Epoch 161 ==> mse: 0.02340136883678151 val_mse: 0.023959201633407475 \n",
      "Epoch 162 ==> mse: 0.023156651625787988 val_mse: 0.0237332899358943 \n",
      "Epoch 163 ==> mse: 0.02290722376857984 val_mse: 0.023505693868478103 \n",
      "Epoch 164 ==> mse: 0.022664588980590088 val_mse: 0.023281489821736927 \n",
      "Epoch 165 ==> mse: 0.022424037496868665 val_mse: 0.0230566150326043 \n",
      "Epoch 166 ==> mse: 0.022190160740562105 val_mse: 0.022836720935756866 \n",
      "Epoch 167 ==> mse: 0.02196214056787759 val_mse: 0.022621687386455293 \n",
      "Epoch 168 ==> mse: 0.021737021757134135 val_mse: 0.0224041316978655 \n",
      "Epoch 169 ==> mse: 0.021519691951525394 val_mse: 0.022192610405856527 \n",
      "Epoch 170 ==> mse: 0.021306465044921844 val_mse: 0.021982607573140023 \n",
      "Epoch 171 ==> mse: 0.021099023042602884 val_mse: 0.021778048007266734 \n",
      "Epoch 172 ==> mse: 0.020896382069332243 val_mse: 0.02157764509793791 \n",
      "Epoch 173 ==> mse: 0.020691172439117705 val_mse: 0.02137833081876078 \n",
      "Epoch 174 ==> mse: 0.020493647470234858 val_mse: 0.02118493390519369 \n",
      "Epoch 175 ==> mse: 0.02029898901108593 val_mse: 0.020992321682837087 \n",
      "Epoch 176 ==> mse: 0.020106176032936057 val_mse: 0.0208029209216787 \n",
      "Epoch 177 ==> mse: 0.019914446906370984 val_mse: 0.0206194494290416 \n",
      "Epoch 178 ==> mse: 0.01972397464811681 val_mse: 0.0204380798169751 \n",
      "Epoch 179 ==> mse: 0.019528418823049683 val_mse: 0.020256516491502022 \n",
      "Epoch 180 ==> mse: 0.019342590441985573 val_mse: 0.02007781978319979 \n",
      "Epoch 181 ==> mse: 0.019160232359381888 val_mse: 0.019902063219728212 \n",
      "Epoch 182 ==> mse: 0.018978444905872836 val_mse: 0.01972681622430578 \n",
      "Epoch 183 ==> mse: 0.018803027775861934 val_mse: 0.01955555990807186 \n",
      "Epoch 184 ==> mse: 0.018628789531654148 val_mse: 0.019386162516316842 \n",
      "Epoch 185 ==> mse: 0.018451213561917507 val_mse: 0.019218544834639657 \n",
      "Epoch 186 ==> mse: 0.018277909504896564 val_mse: 0.019051855687786643 \n",
      "Epoch 187 ==> mse: 0.018109619383310575 val_mse: 0.01888648290542517 \n",
      "Epoch 188 ==> mse: 0.01794482221008779 val_mse: 0.018723402530962545 \n",
      "Epoch 189 ==> mse: 0.01778466114191793 val_mse: 0.018562360010374465 \n",
      "Epoch 190 ==> mse: 0.017627948824606113 val_mse: 0.01840328877054661 \n",
      "Epoch 191 ==> mse: 0.017476482653257918 val_mse: 0.018247038154785927 \n",
      "Epoch 192 ==> mse: 0.017327585921354555 val_mse: 0.018092974891508264 \n",
      "Epoch 193 ==> mse: 0.017182781829973293 val_mse: 0.017943021317972638 \n",
      "Epoch 194 ==> mse: 0.01704203589653622 val_mse: 0.017794348845632437 \n",
      "Epoch 195 ==> mse: 0.01690697295894337 val_mse: 0.017650800664541413 \n",
      "Epoch 196 ==> mse: 0.01677702357327806 val_mse: 0.01751183953989163 \n",
      "Epoch 197 ==> mse: 0.01665224211006253 val_mse: 0.01737885120836488 \n",
      "Epoch 198 ==> mse: 0.016526323316003427 val_mse: 0.01724694113248923 \n",
      "Epoch 199 ==> mse: 0.016402174931074324 val_mse: 0.017115874659225785 \n",
      "Epoch 200 ==> mse: 0.01628387717536727 val_mse: 0.01698857656592383 "
     ]
    }
   ],
   "source": [
    "model.fit(X[:10000], y[:10000], epochs=200, batch_size=1000, learning_rate=0.01, validation_data=[X[10000:], y[10000:]])"
   ]
  },
  {
   "cell_type": "code",
   "execution_count": 8,
   "metadata": {},
   "outputs": [
    {
     "data": {
      "text/plain": [
       "array([[3.83893475],\n",
       "       [1.21101592],\n",
       "       [4.03321083],\n",
       "       ...,\n",
       "       [4.14892319],\n",
       "       [3.51625799],\n",
       "       [1.41429801]])"
      ]
     },
     "execution_count": 8,
     "metadata": {},
     "output_type": "execute_result"
    }
   ],
   "source": [
    "model.predict(X[10000:])"
   ]
  },
  {
   "cell_type": "code",
   "execution_count": 9,
   "metadata": {},
   "outputs": [
    {
     "name": "stdout",
     "output_type": "stream",
     "text": [
      "Root mean square error: 0.13034023387244567\n",
      "R2 score: 0.9941477445268337\n"
     ]
    }
   ],
   "source": [
    "model.evaluate(X[10000:], y[10000:])"
   ]
  },
  {
   "cell_type": "markdown",
   "metadata": {},
   "source": [
    "BINARY CLASSIFICATION"
   ]
  },
  {
   "cell_type": "code",
   "execution_count": null,
   "metadata": {},
   "outputs": [],
   "source": [
    "def sigmoid(x):\n",
    "    return 1/(1+np.exp(-x))\n",
    "\n",
    "X = np.random.rand(15000, 5)\n",
    "y = sigmoid(0.4*np.square(X[:, 0]) + 0.7*X[:, 1] + 0.5*np.sqrt(np.abs(X[:, 2])) + 0.25*X[:, 3] - 0.17*(X[:, 4]))\n",
    "y = (y>0.7).astype(int)"
   ]
  },
  {
   "cell_type": "code",
   "execution_count": null,
   "metadata": {},
   "outputs": [],
   "source": [
    "model = MLP([5, 10, 7, 1], ['none', 'relu', 'relu', 'sigmoid'])"
   ]
  },
  {
   "cell_type": "code",
   "execution_count": null,
   "metadata": {},
   "outputs": [],
   "source": [
    "model.compile_network('binary_crossentropy', ['accuracy'])"
   ]
  },
  {
   "cell_type": "code",
   "execution_count": null,
   "metadata": {},
   "outputs": [],
   "source": [
    "model.fit(X[:10000], y[:10000], epochs=100, batch_size=1000, learning_rate=0.1, validation_data=[X[10000:], y[10000:]])"
   ]
  },
  {
   "cell_type": "code",
   "execution_count": null,
   "metadata": {},
   "outputs": [],
   "source": [
    "model.predict(X[10000:])"
   ]
  },
  {
   "cell_type": "code",
   "execution_count": null,
   "metadata": {},
   "outputs": [],
   "source": [
    "model.evaluate(X[10000:], y[10000:])"
   ]
  },
  {
   "cell_type": "markdown",
   "metadata": {},
   "source": [
    "MULTI-CLASS CLASSIFICATION"
   ]
  },
  {
   "cell_type": "code",
   "execution_count": null,
   "metadata": {},
   "outputs": [],
   "source": [
    "from tensorflow.keras.datasets import mnist\n",
    "(X_train, y_train), _ = mnist.load_data()\n",
    "\n",
    "X = X_train.reshape(X_train.shape[0], -1)\n",
    "X = X/255.0\n",
    "\n",
    "y = np.zeros((y_train.shape[0], 10))\n",
    "for i in range(len(y_train)):\n",
    "    y[i, y_train[i]] = 1"
   ]
  },
  {
   "cell_type": "code",
   "execution_count": null,
   "metadata": {},
   "outputs": [],
   "source": [
    "model = MLP([784, 800, 500, 10], ['none', 'relu', 'relu', 'softmax'])"
   ]
  },
  {
   "cell_type": "code",
   "execution_count": null,
   "metadata": {},
   "outputs": [],
   "source": [
    "model.compile_network('categorical_crossentropy', ['accuracy'])"
   ]
  },
  {
   "cell_type": "code",
   "execution_count": null,
   "metadata": {},
   "outputs": [],
   "source": [
    "model.fit(X[:50000], y[:50000], epochs=50, batch_size=500, learning_rate=0.001, validation_data=[X[50000:], y[50000:]])"
   ]
  },
  {
   "cell_type": "code",
   "execution_count": null,
   "metadata": {},
   "outputs": [],
   "source": [
    "model.predict(X[10000:])"
   ]
  },
  {
   "cell_type": "code",
   "execution_count": null,
   "metadata": {},
   "outputs": [],
   "source": [
    "model.evaluate(X[10000:], y[10000:])"
   ]
  },
  {
   "cell_type": "markdown",
   "metadata": {},
   "source": [
    "MULTI-CLASS CLASSIFICATION WITH SPARSE CROSS-ENTROPY LOSS"
   ]
  },
  {
   "cell_type": "code",
   "execution_count": null,
   "metadata": {},
   "outputs": [],
   "source": [
    "(X, y), _ = mnist.load_data()\n",
    "\n",
    "X = X.reshape(X.shape[0], -1)\n",
    "X = X/255.0"
   ]
  },
  {
   "cell_type": "code",
   "execution_count": null,
   "metadata": {},
   "outputs": [],
   "source": [
    "model = MLP([784, 500, 300, 10], ['none', 'relu', 'relu', 'softmax'])"
   ]
  },
  {
   "cell_type": "code",
   "execution_count": null,
   "metadata": {},
   "outputs": [],
   "source": [
    "model.compile_network('sparse_categorical_crossentropy', ['accuracy'])"
   ]
  },
  {
   "cell_type": "code",
   "execution_count": null,
   "metadata": {},
   "outputs": [],
   "source": [
    "model.fit(X[:50000], y[:50000], epochs=50, batch_size=500, learning_rate=0.001, validation_data=[X[50000:], y[50000:]])"
   ]
  },
  {
   "cell_type": "code",
   "execution_count": null,
   "metadata": {},
   "outputs": [],
   "source": [
    "model.predict(X[10000:])"
   ]
  },
  {
   "cell_type": "code",
   "execution_count": null,
   "metadata": {},
   "outputs": [],
   "source": [
    "model.evaluate(X[10000:], y[10000:])"
   ]
  }
 ],
 "metadata": {
  "kernelspec": {
   "display_name": "Python 3",
   "language": "python",
   "name": "python3"
  },
  "language_info": {
   "codemirror_mode": {
    "name": "ipython",
    "version": 3
   },
   "file_extension": ".py",
   "mimetype": "text/x-python",
   "name": "python",
   "nbconvert_exporter": "python",
   "pygments_lexer": "ipython3",
   "version": "3.7.4"
  }
 },
 "nbformat": 4,
 "nbformat_minor": 2
}
